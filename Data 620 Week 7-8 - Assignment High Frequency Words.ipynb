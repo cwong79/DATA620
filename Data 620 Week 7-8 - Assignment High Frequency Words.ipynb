{
 "cells": [
  {
   "cell_type": "markdown",
   "metadata": {},
   "source": [
    "# Week 7-8 Assignment\n",
    "Data 620\n",
    "\n",
    "Spring 2020\n",
    "\n",
    "Tamiko Jenkins, Calvin Wong\n",
    "\n",
    "\n",
    "## Week Seven - Core Reading\n",
    "\n",
    "\n",
    "Please read:\n",
    "\n",
    "Natural Language Processing with Python, Chapters 3 and 4.\n",
    "There is a lot of material in chapter 3, all core to text processing.  There is a version of this text (updated for Python 3 and NLTK 3)  here:  Steven Bird, Ewan Klein and Edward Loper (2014): Chapter 3: Natural Language Processing with Python.  http://www.nltk.org/book/ch03.html\n",
    "Chapter 4 is mostly a review of some Python topics, and should be familiar material for most of you.\n",
    "\n",
    "<img src=\"NLP Pipeline.jpg\"> Source:  Natural Language Processing with Python, chapter 3.\n",
    "\n",
    "\n",
    "## Week Eight - Core Reading\n",
    "Please read:\n",
    "\n",
    "\n",
    "Natural Language Processing with Python, Chapters 5 and 6.\n",
    "\n",
    "## Week Eight - Assignment High Frequency Words\n",
    "Attached Files:\n",
    "\n",
    "\n",
    "File Assignment High Frequency Words.pdf (100.339 KB)\n",
    "\n",
    "\n",
    "In this week's assignment, you are asked to analyze high frequency words.\n",
    "\n",
    "\n",
    "Due end of day on Monday 3/22."
   ]
  },
  {
   "cell_type": "markdown",
   "metadata": {},
   "source": [
    "## Assignment – High Frequency Words\n",
    "\n",
    "\n",
    "Please answer the following questions in an IPython Notebook, posted to GitHub.\n",
    "\n",
    "1. Choose a corpus of interest.\n",
    "\n",
    "2. How many total unique words are in the corpus? (Please feel free to define unique words in any interesting, defensible way).\n",
    "\n",
    "3. Taking the most common words, how many unique words represent half of the total words in the corpus?\n",
    "\n",
    "4. Identify the 200 highest frequency words in this corpus.\n",
    "\n",
    "5. Create a graph that shows the relative frequency of these 200 words.\n",
    "\n",
    "6. Does the observed relative frequency of these words follow Zipf’s law? Explain.\n",
    "\n",
    "7. In what ways do you think the frequency of the words in this corpus differ from “all words in all corpora.”"
   ]
  },
  {
   "cell_type": "markdown",
   "metadata": {},
   "source": [
    "## 1. Choose a corpus of interest."
   ]
  },
  {
   "cell_type": "markdown",
   "metadata": {},
   "source": [
    "### Import Libraries and Corpora"
   ]
  },
  {
   "cell_type": "code",
   "execution_count": 2,
   "metadata": {},
   "outputs": [],
   "source": [
    "import nltk \n",
    "from nltk.corpus import brown\n",
    "from nltk.corpus import gutenberg\n",
    "from nltk.corpus import inaugural\n",
    "from nltk.corpus import stopwords\n",
    "import string"
   ]
  },
  {
   "cell_type": "markdown",
   "metadata": {},
   "source": [
    "### Collect corpora, stopword, punctuation information\n",
    "We look up the difference corpora available in nltk and choose to use the built in stopword list from nltk and punctuation list from the string library. There are many other options. "
   ]
  },
  {
   "cell_type": "code",
   "execution_count": 3,
   "metadata": {},
   "outputs": [],
   "source": [
    "stop_words = list(set(stopwords.words('english')))\n",
    "punctuation = set(string.punctuation)\n",
    "brown_cat_ids = brown.categories()\n",
    "romance = brown_cat_ids[-2]\n",
    "gutenberg_text_ids = gutenberg.fileids()\n",
    "inaugural_text_ids = inaugural.fileids()"
   ]
  },
  {
   "cell_type": "markdown",
   "metadata": {},
   "source": [
    "### Review corpora\n",
    "We spend time finding basic statistics about our corpora, also reviewing the availability of tokenized versus raw text. "
   ]
  },
  {
   "cell_type": "code",
   "execution_count": 4,
   "metadata": {},
   "outputs": [
    {
     "name": "stdout",
     "output_type": "stream",
     "text": [
      "average word length average sentence length lexical diversity text\n",
      "5 25 26 austen-emma.txt\n",
      "5 26 17 austen-persuasion.txt\n",
      "5 28 22 austen-sense.txt\n",
      "4 34 79 bible-kjv.txt\n",
      "5 19 5 blake-poems.txt\n",
      "4 19 14 bryant-stories.txt\n",
      "4 18 12 burgess-busterbrown.txt\n",
      "4 20 13 carroll-alice.txt\n",
      "5 20 12 chesterton-ball.txt\n",
      "5 23 11 chesterton-brown.txt\n",
      "5 18 11 chesterton-thursday.txt\n",
      "4 21 25 edgeworth-parents.txt\n",
      "5 26 15 melville-moby_dick.txt\n",
      "5 52 11 milton-paradise.txt\n",
      "4 12 9 shakespeare-caesar.txt\n",
      "4 12 8 shakespeare-hamlet.txt\n",
      "4 12 7 shakespeare-macbeth.txt\n",
      "5 36 12 whitman-leaves.txt\n"
     ]
    }
   ],
   "source": [
    "# From book\n",
    "print(\"average word length\", \"average sentence length\", \"lexical diversity\", \"text\")\n",
    "for fileid in gutenberg.fileids():\n",
    "    num_chars = len(gutenberg.raw(fileid))\n",
    "    num_words = len(gutenberg.words(fileid))\n",
    "    num_sents = len(gutenberg.sents(fileid))\n",
    "    num_vocab = len(set(w.lower() for w in gutenberg.words(fileid)))\n",
    "    print(round(num_chars/num_words), round(num_words/num_sents), round(num_words/num_vocab), fileid)"
   ]
  },
  {
   "cell_type": "markdown",
   "metadata": {},
   "source": [
    "## 2. How many total unique words are in the corpus? \n",
    "(Please feel free to define unique words in any interesting, defensible way)."
   ]
  },
  {
   "cell_type": "markdown",
   "metadata": {},
   "source": [
    "### Get words from text\n",
    "We have to choose a strategy to convert to words from raw text. Since we have an example of tokenized text (Brown, Romance), we use different strategies (split on white space or tokenize) to do so. We can also clean text with Regex, but use more generic methods below. We also don't Stem, Lematize or do any operations beyond what is included in the default tokenization previously applied to (Brown), or which is in the tokenize function of nltk (trump). \n",
    "\n",
    "http://www.ling.helsinki.fi/kit/2009s/clt231/NLTK/book/ch02-AccessingTextCorporaAndLexicalResources.html"
   ]
  },
  {
   "cell_type": "code",
   "execution_count": 5,
   "metadata": {},
   "outputs": [],
   "source": [
    "romance_words = brown.words(categories=romance)\n",
    "whit_text_raw = gutenberg.raw(gutenberg_text_ids[-1])\n",
    "whit_words = [w.strip() for w in whit_text_raw.split() if not '']\n",
    "trump_text_raw = inaugural.raw(inaugural_text_ids[-1])\n",
    "trump_words = nltk.word_tokenize(trump_text_raw)"
   ]
  },
  {
   "cell_type": "code",
   "execution_count": 6,
   "metadata": {},
   "outputs": [],
   "source": [
    "def print_corpora_info(name, idents, ident, words):\n",
    "    print(\"\\n{}:\\n\".format(name))\n",
    "    print(\"Corpus categories/ids are:\\n{}\".format(\", \".join(idents)))\n",
    "    print(\"\\nThere are {} words in {}, for instance:\\n {}\"\\\n",
    "                    .format(len(words), ident, \", \".join(words[:10])))\n"
   ]
  },
  {
   "cell_type": "code",
   "execution_count": 7,
   "metadata": {},
   "outputs": [
    {
     "name": "stdout",
     "output_type": "stream",
     "text": [
      "\n",
      "Brown:\n",
      "\n",
      "Corpus categories/ids are:\n",
      "adventure, belles_lettres, editorial, fiction, government, hobbies, humor, learned, lore, mystery, news, religion, reviews, romance, science_fiction\n",
      "\n",
      "There are 70022 words in romance, for instance:\n",
      " They, neither, liked, nor, disliked, the, Old, Man, ., To\n",
      "\n",
      "Gutenburg:\n",
      "\n",
      "Corpus categories/ids are:\n",
      "austen-emma.txt, austen-persuasion.txt, austen-sense.txt, bible-kjv.txt, blake-poems.txt, bryant-stories.txt, burgess-busterbrown.txt, carroll-alice.txt, chesterton-ball.txt, chesterton-brown.txt, chesterton-thursday.txt, edgeworth-parents.txt, melville-moby_dick.txt, milton-paradise.txt, shakespeare-caesar.txt, shakespeare-hamlet.txt, shakespeare-macbeth.txt, whitman-leaves.txt\n",
      "\n",
      "There are 122070 words in whitman-leaves.txt, for instance:\n",
      " [Leaves, of, Grass, by, Walt, Whitman, 1855], Come,, said, my\n",
      "\n",
      "Inaugural:\n",
      "\n",
      "Corpus categories/ids are:\n",
      "1789-Washington.txt, 1793-Washington.txt, 1797-Adams.txt, 1801-Jefferson.txt, 1805-Jefferson.txt, 1809-Madison.txt, 1813-Madison.txt, 1817-Monroe.txt, 1821-Monroe.txt, 1825-Adams.txt, 1829-Jackson.txt, 1833-Jackson.txt, 1837-VanBuren.txt, 1841-Harrison.txt, 1845-Polk.txt, 1849-Taylor.txt, 1853-Pierce.txt, 1857-Buchanan.txt, 1861-Lincoln.txt, 1865-Lincoln.txt, 1869-Grant.txt, 1873-Grant.txt, 1877-Hayes.txt, 1881-Garfield.txt, 1885-Cleveland.txt, 1889-Harrison.txt, 1893-Cleveland.txt, 1897-McKinley.txt, 1901-McKinley.txt, 1905-Roosevelt.txt, 1909-Taft.txt, 1913-Wilson.txt, 1917-Wilson.txt, 1921-Harding.txt, 1925-Coolidge.txt, 1929-Hoover.txt, 1933-Roosevelt.txt, 1937-Roosevelt.txt, 1941-Roosevelt.txt, 1945-Roosevelt.txt, 1949-Truman.txt, 1953-Eisenhower.txt, 1957-Eisenhower.txt, 1961-Kennedy.txt, 1965-Johnson.txt, 1969-Nixon.txt, 1973-Nixon.txt, 1977-Carter.txt, 1981-Reagan.txt, 1985-Reagan.txt, 1989-Bush.txt, 1993-Clinton.txt, 1997-Clinton.txt, 2001-Bush.txt, 2005-Bush.txt, 2009-Obama.txt, 2013-Obama.txt, 2017-Trump.txt\n",
      "\n",
      "There are 1679 words in 2017-Trump.txt, for instance:\n",
      " Chief, Justice, Roberts, ,, President, Carter, ,, President, Clinton, ,\n"
     ]
    }
   ],
   "source": [
    "print_corpora_info(\"Brown\", brown_cat_ids, romance, romance_words)\n",
    "print_corpora_info(\"Gutenburg\", gutenberg.fileids(), gutenberg.fileids()[-1], whit_words)\n",
    "print_corpora_info(\"Inaugural\", inaugural_text_ids, inaugural_text_ids[-1], trump_words)"
   ]
  },
  {
   "cell_type": "markdown",
   "metadata": {},
   "source": [
    "### Discussion\n",
    "Once we've gotten an idea of the words in our text, we perform text cleaning operations a produce some basic print outs of the results.\n",
    "In practice, there are plenty of reasons to leave in punctuation, since it can often offer  insight into how to segment sentences or collocate words, if not insight into the meaning of the word itself (which it can sometimes change). For the purpose of this exercise, we want a basic idea of our text, so we strip all of the punctuation. "
   ]
  },
  {
   "cell_type": "code",
   "execution_count": 8,
   "metadata": {},
   "outputs": [],
   "source": [
    "def print_word_ops(prev=None, current=None):\n",
    "    if prev is not None and current is not None:\n",
    "        print(\"Example of removed words:\\n{}\".format(\", \".join(list(set(prev)-set(current)))[:10]))\n",
    "    if current is not None:\n",
    "        print(\"Number of words: {}.\\nFor instance:\\n{}\".format(len(current), \n",
    "                                                         \", \".join(current[:10]))) \n",
    "# More conservative punctuation removal\n",
    "# Punctuation can be useful when creating collocations\n",
    "#def not_a_punct(words):\n",
    "#    # Whole words that are not punctuation\n",
    "#    return [w for w in words if w not in punctuation if not '']\n",
    "\n",
    "# We remove empty strings by default\n",
    "def no_punct(words):\n",
    "    translation = str.maketrans('', '', string.punctuation)\n",
    "    stripped = [w.translate(translation) for w in words]\n",
    "    return [w.strip() for w in stripped if not '']\n",
    "\n",
    "# We decide not to lowercase words, so the stopword list is only effective \n",
    "# with originally lowercase words, okay to illustrate the concept\n",
    "def no_stopwords(words):\n",
    "    return [w.strip() for w in words if w.strip() not in stop_words and not '']\n",
    "\n",
    "def is_unique(words): \n",
    "    unique = list(set([w.lower().strip() for w in words]))\n",
    "    return [w for w in unique if w!='']\n",
    "\n",
    "def word_stats(title, words):\n",
    "    print(title, \"\\n\") \n",
    "    \n",
    "    print(\"\\nStripping all punctuation marks:\")\n",
    "    p_words = no_punct(words)\n",
    "    print_word_ops(p_words, p_words)\n",
    "\n",
    "    print(\"\\nFinding words that are not stop words:\")\n",
    "    sp_words = no_stopwords(p_words)\n",
    "    print_word_ops(p_words, sp_words)\n",
    "        \n",
    "    print(\"\\nFraction of all content that is not a stop-word:{}\".format(len(sp_words) / len(p_words)))\n",
    "    \n",
    "    print(\"\\nFinding unique words:\")\n",
    "    up_words = is_unique(p_words)\n",
    "    print_word_ops(p_words, up_words)\n",
    "    \n",
    "    \n",
    "    # Return the list of all non-unique and unique words with stop words included\n",
    "    return sp_words"
   ]
  },
  {
   "cell_type": "markdown",
   "metadata": {},
   "source": [
    "### Cleaning a manually created word list from raw text"
   ]
  },
  {
   "cell_type": "code",
   "execution_count": 9,
   "metadata": {},
   "outputs": [
    {
     "name": "stdout",
     "output_type": "stream",
     "text": [
      "Whitman Leaves of Grass, Gutenberg \n",
      "\n",
      "\n",
      "Stripping all punctuation marks:\n",
      "Example of removed words:\n",
      "\n",
      "Number of words: 122070.\n",
      "For instance:\n",
      "Leaves, of, Grass, by, Walt, Whitman, 1855, Come, said, my\n",
      "\n",
      "Finding words that are not stop words:\n",
      "Example of removed words:\n",
      "where, to,\n",
      "Number of words: 74062.\n",
      "For instance:\n",
      "Leaves, Grass, Walt, Whitman, 1855, Come, said, soul, Such, verses\n",
      "\n",
      "Fraction of all content that is not a stop-word:0.6067174571966905\n",
      "\n",
      "Finding unique words:\n",
      "Example of removed words:\n",
      ", Behrings\n",
      "Number of words: 14568.\n",
      "For instance:\n",
      "stumpy, devours, sleepily, exhibits, boats, killinghammer, seaboard, pacifying, withdrawn, count\n"
     ]
    }
   ],
   "source": [
    "whit_clean_w = word_stats(\"Whitman Leaves of Grass, Gutenberg\", whit_words)"
   ]
  },
  {
   "cell_type": "markdown",
   "metadata": {},
   "source": [
    "### Cleaning a pre-tokenized Corpora\n",
    "Note that https://www.nltk.org/book/ch03.html states that Gutenberg texts have a long pre and post text that is added to the text. We can perform a regex or search to find the index of key words and slice the content to exclude these sections. For our purposes (showing rough differences among texts), we'll skip this operation for now.  "
   ]
  },
  {
   "cell_type": "code",
   "execution_count": 10,
   "metadata": {},
   "outputs": [
    {
     "name": "stdout",
     "output_type": "stream",
     "text": [
      "Brown Romance Category \n",
      "\n",
      "\n",
      "Stripping all punctuation marks:\n",
      "Example of removed words:\n",
      "\n",
      "Number of words: 70022.\n",
      "For instance:\n",
      "They, neither, liked, nor, disliked, the, Old, Man, , To\n",
      "\n",
      "Finding words that are not stop words:\n",
      "Example of removed words:\n",
      "where, to,\n",
      "Number of words: 44190.\n",
      "For instance:\n",
      "They, neither, liked, disliked, Old, Man, , To, could, broken\n",
      "\n",
      "Fraction of all content that is not a stop-word:0.6310873725400589\n",
      "\n",
      "Finding unique words:\n",
      "Example of removed words:\n",
      ", Tomorrow\n",
      "Number of words: 7815.\n",
      "For instance:\n",
      "stumpy, charming, boats, wax, count, unlocked, adams, hedge, jeans, encouragingly\n"
     ]
    }
   ],
   "source": [
    "romance_clean_w = word_stats(\"Brown Romance Category\", romance_words)"
   ]
  },
  {
   "cell_type": "markdown",
   "metadata": {},
   "source": [
    "### Cleaning a corpus we tokenized with nltk"
   ]
  },
  {
   "cell_type": "code",
   "execution_count": 11,
   "metadata": {},
   "outputs": [
    {
     "name": "stdout",
     "output_type": "stream",
     "text": [
      "Trump 2020 Speech Inaugural \n",
      "\n",
      "\n",
      "Stripping all punctuation marks:\n",
      "Example of removed words:\n",
      "\n",
      "Number of words: 1679.\n",
      "For instance:\n",
      "Chief, Justice, Roberts, , President, Carter, , President, Clinton, \n",
      "\n",
      "Finding words that are not stop words:\n",
      "Example of removed words:\n",
      "to, off, t\n",
      "Number of words: 1001.\n",
      "For instance:\n",
      "Chief, Justice, Roberts, , President, Carter, , President, Clinton, \n",
      "\n",
      "Fraction of all content that is not a stop-word:0.5961882072662299\n",
      "\n",
      "Finding unique words:\n",
      "Example of removed words:\n",
      ", January,\n",
      "Number of words: 537.\n",
      "For instance:\n",
      "how, past, terrorism, can, capital, factories, your, life, young, has\n"
     ]
    }
   ],
   "source": [
    "trump_clean_w = word_stats(\"Trump 2020 Speech Inaugural\", trump_words)"
   ]
  },
  {
   "cell_type": "markdown",
   "metadata": {},
   "source": [
    "## 3. Taking the most common words, how many unique words represent half of the total words in the corpus?\n",
    "http://www.nltk.org/book/ch04.html"
   ]
  },
  {
   "cell_type": "code",
   "execution_count": 21,
   "metadata": {},
   "outputs": [
    {
     "data": {
      "text/plain": [
       "(483,\n",
       " [('we', 26),\n",
       "  ('america', 20),\n",
       "  ('american', 11),\n",
       "  ('people', 10),\n",
       "  ('country', 9),\n",
       "  ('one', 8),\n",
       "  ('nation', 8),\n",
       "  ('every', 7),\n",
       "  ('world', 6),\n",
       "  ('great', 6)])"
      ]
     },
     "execution_count": 21,
     "metadata": {},
     "output_type": "execute_result"
    }
   ],
   "source": [
    "# Get Frequencies of unique words [(word, frequency number)]\n",
    "raw_freq = nltk.FreqDist(trump_clean_w).most_common() \n",
    "# Combine non-unique freqs manually\n",
    "\n",
    "# Lowercase words to get unique words\n",
    "l_raw_freq = [(k.lower(), v) for k,v in raw_freq if k!='']  \n",
    "\n",
    "#[nltk.FreqDist([w.lower() for w in trump_clean_w if w!='']).most_common()]\n",
    "# Add the sum of all frequencies for unique words as a dictionary\n",
    "u_freq = {}\n",
    "for i,(w,f) in enumerate(l_raw_freq):\n",
    "    u_freq[w] = sum([v for k,v in l_raw_freq if w==k])\n",
    "\n",
    "# Sort and reformat into list of tuples\n",
    "u_freq = sorted(u_freq.items(), key=lambda x: x[1], reverse=True) \n",
    "len(u_freq),u_freq[:10]"
   ]
  },
  {
   "cell_type": "code",
   "execution_count": 12,
   "metadata": {},
   "outputs": [],
   "source": [
    "# split unique word-freq list\n",
    "words, freqs = list(zip(*u_freq))\n",
    "# calculate cumulative freq counts\n",
    "cum_freqs = [sum(freqs[0:i+1]) for i, _ in enumerate(freqs)]\n",
    "\n",
    "#Get count of half of the raw frequencies\n",
    "raw_half_count = int(len(raw_freq)/2)\n",
    "# Remove words past cumulative frequencies equaling half the total words\n",
    "u_half_cum_freqs = [n for n in cum_freqs if int(n) <= raw_half_count]\n",
    "\n",
    "u_half_eindex = int(len(u_half_cum_freqs))\n",
    "# Remove words past index\n",
    "u_half_frequencies = list(zip(words[:u_half_eindex], freqs[:u_half_eindex], u_half_cum_freqs))  "
   ]
  },
  {
   "cell_type": "code",
   "execution_count": 13,
   "metadata": {},
   "outputs": [
    {
     "name": "stdout",
     "output_type": "stream",
     "text": [
      "The number of unique words comprising half the total corpus is 40\n",
      "With a total unique words of 483\n",
      "And a total word count of 494.\n",
      "The top most frequent unique words are:\n",
      "(Word, Freq, Cum Freq):\n",
      "we 26\n",
      "america 20\n",
      "american 11\n",
      "people 10\n",
      "country 9\n",
      "one 8\n",
      "nation 8\n",
      "every 7\n",
      "world 6\n",
      "great 6\n",
      "back 6\n",
      "the 6\n",
      "and 6\n",
      "never 6\n"
     ]
    }
   ],
   "source": [
    "# derived from the freqdist counts\n",
    "print(\"The number of unique words comprising half the total corpus is {}\\n\\\n",
    "With a total unique words of {}\\n\\\n",
    "And a total word count of {}.\\n\\\n",
    "The top most frequent unique words are:\\n(Word, Freq, Cum Freq):\\n{}\" \\\n",
    "        .format(len(u_half_frequencies), len(u_freq), \n",
    "                len(raw_freq), \n",
    "                \"\\n\".join([str(t[0])+ \" \" + str(t[1]) for t in u_half_frequencies[:14]]))\n",
    "     )"
   ]
  },
  {
   "cell_type": "markdown",
   "metadata": {},
   "source": [
    "## 4. Identify the 200 highest frequency words in this corpus."
   ]
  },
  {
   "cell_type": "code",
   "execution_count": 14,
   "metadata": {},
   "outputs": [
    {
     "data": {
      "text/plain": [
       "('',\n",
       " 'We',\n",
       " 'America',\n",
       " 'American',\n",
       " 'people',\n",
       " 'country',\n",
       " 'one',\n",
       " 'world',\n",
       " 'great',\n",
       " 'back',\n",
       " 'Nation',\n",
       " 'The',\n",
       " 'And',\n",
       " 'never',\n",
       " 'new',\n",
       " 'President',\n",
       " 'many',\n",
       " 'protected',\n",
       " 'across',\n",
       " 'right',\n",
       " 'dreams',\n",
       " 'every',\n",
       " 'God',\n",
       " 'make',\n",
       " 'Americans',\n",
       " 'Thank',\n",
       " 'citizens',\n",
       " 'power',\n",
       " 'today',\n",
       " 'wealth',\n",
       " 'jobs',\n",
       " 'day',\n",
       " 'heart',\n",
       " 'bring',\n",
       " 'Obama',\n",
       " 'Government',\n",
       " 'left',\n",
       " 'factories',\n",
       " 'families',\n",
       " 'It',\n",
       " 'everyone',\n",
       " 'This',\n",
       " 'whether',\n",
       " 'millions',\n",
       " 'good',\n",
       " 'I',\n",
       " 'foreign',\n",
       " 'countries',\n",
       " 'nations',\n",
       " 'borders',\n",
       " 'first',\n",
       " 'must',\n",
       " 'bless',\n",
       " 'national',\n",
       " 'Together',\n",
       " 'years',\n",
       " 'face',\n",
       " 'get',\n",
       " 'done',\n",
       " 'Every',\n",
       " 'transferring',\n",
       " 'another',\n",
       " 'party',\n",
       " 'Washington',\n",
       " 'For',\n",
       " 'long',\n",
       " 'small',\n",
       " 'Capital',\n",
       " 'share',\n",
       " 'victories',\n",
       " 'triumphs',\n",
       " 'land',\n",
       " 'moment',\n",
       " 'belongs',\n",
       " 'United',\n",
       " 'States',\n",
       " 'forgotten',\n",
       " 'men',\n",
       " 'women',\n",
       " 'longer',\n",
       " 'You',\n",
       " 'movement',\n",
       " 'At',\n",
       " 'nation',\n",
       " 'exists',\n",
       " 'children',\n",
       " 'safe',\n",
       " 'righteous',\n",
       " 'But',\n",
       " 'like',\n",
       " 'stops',\n",
       " 'pain',\n",
       " 'success',\n",
       " 'glorious',\n",
       " 'destiny',\n",
       " 'oath',\n",
       " 'allegiance',\n",
       " 'industry',\n",
       " 'military',\n",
       " 'trillions',\n",
       " 'made',\n",
       " 'strength',\n",
       " 'even',\n",
       " 'workers',\n",
       " 'city',\n",
       " 'From',\n",
       " 'forward',\n",
       " 'fight',\n",
       " 'breath',\n",
       " 'let',\n",
       " 'winning',\n",
       " 'follow',\n",
       " 'seek',\n",
       " 'way',\n",
       " 'life',\n",
       " 'anyone',\n",
       " 'old',\n",
       " 'Earth',\n",
       " 'loyalty',\n",
       " 'When',\n",
       " 'us',\n",
       " 'together',\n",
       " 'always',\n",
       " 'talk',\n",
       " 'action',\n",
       " 'time',\n",
       " 'mountain',\n",
       " 'ocean',\n",
       " 'Chief',\n",
       " 'Justice',\n",
       " 'Roberts',\n",
       " 'Carter',\n",
       " 'Clinton',\n",
       " 'Bush',\n",
       " 'fellow',\n",
       " 'joined',\n",
       " 'effort',\n",
       " 'rebuild',\n",
       " 'restore',\n",
       " 'promise',\n",
       " 'determine',\n",
       " 'course',\n",
       " 'come',\n",
       " 'challenges',\n",
       " 'confront',\n",
       " 'hardships',\n",
       " 'job',\n",
       " '4',\n",
       " 'gather',\n",
       " 'steps',\n",
       " 'carry',\n",
       " 'orderly',\n",
       " 'peaceful',\n",
       " 'transfer',\n",
       " 'grateful',\n",
       " 'First',\n",
       " 'Lady',\n",
       " 'Michelle',\n",
       " 'gracious',\n",
       " 'aid',\n",
       " 'throughout',\n",
       " 'transition',\n",
       " 'They',\n",
       " 'magnificent',\n",
       " 'Today',\n",
       " 'ceremony',\n",
       " 'however',\n",
       " 'special',\n",
       " 'meaning',\n",
       " 'Because',\n",
       " 'merely',\n",
       " 'administration',\n",
       " 'DC',\n",
       " 'giving',\n",
       " 'group',\n",
       " 'reaped',\n",
       " 'rewards',\n",
       " 'borne',\n",
       " 'cost',\n",
       " 'flourished',\n",
       " 'Politicians',\n",
       " 'prospered',\n",
       " 'closed',\n",
       " 'establishment',\n",
       " 'Their',\n",
       " 'celebrated',\n",
       " 'little',\n",
       " 'celebrate',\n",
       " 'struggling',\n",
       " 'That',\n",
       " 'changes',\n",
       " 'starting',\n",
       " 'gathered',\n",
       " 'watching',\n",
       " 'celebration',\n",
       " 'What',\n",
       " 'truly',\n",
       " 'matters',\n",
       " 'controls',\n",
       " 'controlled')"
      ]
     },
     "execution_count": 14,
     "metadata": {},
     "output_type": "execute_result"
    }
   ],
   "source": [
    "# raw\n",
    "words_200, _ = list(zip(*raw_freq[:200]))\n",
    "words_200"
   ]
  },
  {
   "cell_type": "markdown",
   "metadata": {},
   "source": [
    "## 5. Create a graph that shows the relative frequency of these 200 words.\n",
    "Code: http://www.nltk.org/book/ch04.html"
   ]
  },
  {
   "cell_type": "code",
   "execution_count": 15,
   "metadata": {},
   "outputs": [
    {
     "data": {
      "image/png": "[encoded data removed]",
      "text/plain": [
       "<Figure size 432x288 with 1 Axes>"
      ]
     },
     "metadata": {
      "needs_background": "light"
     },
     "output_type": "display_data"
    },
    {
     "data": {
      "text/plain": [
       "<Figure size 2880x2880 with 0 Axes>"
      ]
     },
     "metadata": {},
     "output_type": "display_data"
    }
   ],
   "source": [
    "from numpy import arange\n",
    "from matplotlib import pyplot\n",
    "from matplotlib import use, pyplot\n",
    "colors = 'rgbcmyk' # red, green, blue, cyan, magenta, yellow, black\n",
    "\n",
    "def bar_chart(categories, words, counts):\n",
    "    \"Plot a bar chart showing counts for each word by category\"\n",
    "    ind = arange(len(words))\n",
    "    width = 1 / (len(categories) + 1)\n",
    "    bar_groups = []\n",
    "    for c in range(len(categories)):\n",
    "        bars = pyplot.bar(ind+c*width, counts[categories[c]], width,\n",
    "                         color=colors[c % len(colors)])\n",
    "        bar_groups.append(bars)\n",
    "    pyplot.xticks(ind+width, words)\n",
    "    pyplot.legend([b[0] for b in bar_groups], categories, loc='upper left')\n",
    "    pyplot.ylabel('Frequency')\n",
    "    pyplot.title('Frequency of 200 Words in Trump Inaugural Speech by Presidential Speech')\n",
    "    pyplot.figure(figsize=(40, 40)) \n",
    "    pyplot.show()\n",
    "\n",
    "speeches = inaugural_text_ids[-7:-1] \n",
    "cfdist = nltk.ConditionalFreqDist(\n",
    "             (speech, word)\n",
    "             for speech in speeches\n",
    "             for word in inaugural.words(speech)\n",
    "             if word in words_200)\n",
    "\n",
    "counts = {}\n",
    "for speech in speeches:\n",
    "    counts[speech] = [cfdist[speech][word] for word in words_200]\n",
    "bar_chart(speeches, words_200, counts)\n",
    " "
   ]
  },
  {
   "cell_type": "markdown",
   "metadata": {},
   "source": [
    "## 6. Does the observed relative frequency of these words follow Zipf’s law? Explain.\n",
    "\n",
    "Yes, generally, the larger the samples, the more it resembles distributions in other texts. This often holds for more than one language, as well. The graph shows how the zipf law predicts a generally accurate distribution of words as shown in comparison to frequncy by rank. We do see some divergences which may be due to the type of writing (speech) in which uncommon words are often repeated for effect and which are often too short to generate the type of frequency needed to show a clear pattern. Relative frequency in this instance, and as above, is evident in the comparison of the different words frequenies depicted in the chart bars or lines (as described in the textbook). \n",
    "\n",
    "Code: https://www.cs.swarthmore.edu/~richardw/classes/cs65/f18/lab01.html"
   ]
  },
  {
   "cell_type": "code",
   "execution_count": 16,
   "metadata": {},
   "outputs": [
    {
     "data": {
      "image/png": "[encoded data removed]",
      "text/plain": [
       "<Figure size 432x288 with 1 Axes>"
      ]
     },
     "metadata": {
      "needs_background": "light"
     },
     "output_type": "display_data"
    }
   ],
   "source": [
    "import math\n",
    "from matplotlib import pylab \n",
    "\n",
    "def H_approx(n):\n",
    "    \"\"\"\n",
    "    Returns an approximate value of n-th harmonic number.\n",
    "    http://en.wikipedia.org/wiki/Harmonic_number\n",
    "    \"\"\"\n",
    "    # Euler-Mascheroni constant\n",
    "    gamma = 0.57721566490153286060651209008240243104215933593992\n",
    "    return gamma + math.log(n) + 0.5/n - 1./(12*n**2) + 1./(120*n**4)\n",
    "\n",
    "words_ = [w.lower() for w in trump_clean_w if w.lower()!='']\n",
    "counts = u_freq\n",
    "n = len(counts)\n",
    "ranks = range(1, n+1)                     # x-axis: the ranks\n",
    "freqs_ = [freq for (word, freq) in counts] # y-axis: the frequencies\n",
    "pylab.loglog(ranks, freqs_, label='Trump') #this plots frequency \n",
    "pylab.loglog(ranks, [len(words_)/H_approx(n)/i for i in ranks], label='Zipf') \n",
    "pylab.xlabel('log(rank)')\n",
    "pylab.ylabel('log(freq)')\n",
    "pylab.legend(loc='lower left')\n",
    "pylab.show()"
   ]
  },
  {
   "cell_type": "markdown",
   "metadata": {},
   "source": [
    "## 7. In what ways do you think the frequency of the words in this corpus differ from “all words in all corpora.\n",
    "\n",
    "Sometimes when a corpus is short or unique the top word frequencies diverge from a corpora. This can happen in text without a lot of common words or simply because the comparison runs out of common words (articles and other generic language). Common words show up in similar amounts due to the standard grammar that comprises human language. In this instance, Trump speaks in the vernarcular and is speaking to a wide audience, so one would imagine a fairly typical trend in using common words and then a large jump in the frequency of uncommon words, compared to their typical usage. When compared to other Presidential speaches I would expect to find more possessives and more repetiion of uncommon words. "
   ]
  },
  {
   "cell_type": "code",
   "execution_count": null,
   "metadata": {},
   "outputs": [],
   "source": []
  }
 ],
 "metadata": {
  "kernelspec": {
   "display_name": "Python 3",
   "language": "python",
   "name": "python3"
  },
  "language_info": {
   "codemirror_mode": {
    "name": "ipython",
    "version": 3
   },
   "file_extension": ".py",
   "mimetype": "text/x-python",
   "name": "python",
   "nbconvert_exporter": "python",
   "pygments_lexer": "ipython3",
   "version": "3.7.4"
  }
 },
 "nbformat": 4,
 "nbformat_minor": 4
}
